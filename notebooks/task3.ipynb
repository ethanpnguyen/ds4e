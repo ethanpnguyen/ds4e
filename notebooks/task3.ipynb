{
  "nbformat": 4,
  "nbformat_minor": 0,
  "metadata": {
    "colab": {
      "provenance": [],
      "authorship_tag": "ABX9TyNBS5fjseFd/qQehUyRJMYt",
      "include_colab_link": true
    },
    "kernelspec": {
      "name": "python3",
      "display_name": "Python 3"
    },
    "language_info": {
      "name": "python"
    }
  },
  "cells": [
    {
      "cell_type": "markdown",
      "metadata": {
        "id": "view-in-github",
        "colab_type": "text"
      },
      "source": [
        "<a href=\"https://colab.research.google.com/github/ethanpnguyen/ds4e/blob/main/notebooks/task3.ipynb\" target=\"_parent\"><img src=\"https://colab.research.google.com/assets/colab-badge.svg\" alt=\"Open In Colab\"/></a>"
      ]
    },
    {
      "cell_type": "markdown",
      "source": [
        "## House Prices:\n",
        "\n",
        "Can you leverage more columns in the dataset for better predictions?"
      ],
      "metadata": {
        "id": "iZqEQGhAzO_Q"
      }
    },
    {
      "cell_type": "markdown",
      "source": [
        "## Initialize"
      ],
      "metadata": {
        "id": "o9UeeZ5Hzap4"
      }
    },
    {
      "cell_type": "code",
      "execution_count": 1,
      "metadata": {
        "id": "J-o2_8omxqx5"
      },
      "outputs": [],
      "source": [
        "import pandas as pd\n",
        "import numpy as np\n",
        "import sklearn\n",
        "from sklearn.model_selection import train_test_split\n",
        "from sklearn.metrics import mean_absolute_error"
      ]
    },
    {
      "cell_type": "markdown",
      "source": [
        "## Load Data"
      ],
      "metadata": {
        "id": "jl88-xvAz00M"
      }
    },
    {
      "cell_type": "code",
      "source": [
        "dfMlb = pd.read_csv('/content/house_prices.csv')"
      ],
      "metadata": {
        "id": "ehyYAAlQzkFm"
      },
      "execution_count": 3,
      "outputs": []
    },
    {
      "cell_type": "code",
      "source": [
        "dfMlb.dtypes"
      ],
      "metadata": {
        "colab": {
          "base_uri": "https://localhost:8080/"
        },
        "id": "DtQqQI5H4S2i",
        "outputId": "d922d5e5-822f-4afc-ab60-5232731e96e0"
      },
      "execution_count": 4,
      "outputs": [
        {
          "output_type": "execute_result",
          "data": {
            "text/plain": [
              "Suburb            object\n",
              "Address           object\n",
              "Rooms              int64\n",
              "Type              object\n",
              "Price            float64\n",
              "Method            object\n",
              "SellerG           object\n",
              "Date              object\n",
              "Distance         float64\n",
              "Postcode         float64\n",
              "Bedroom2         float64\n",
              "Bathroom         float64\n",
              "Car              float64\n",
              "Landsize         float64\n",
              "BuildingArea     float64\n",
              "YearBuilt        float64\n",
              "CouncilArea       object\n",
              "Lattitude        float64\n",
              "Longtitude       float64\n",
              "Regionname        object\n",
              "Propertycount    float64\n",
              "dtype: object"
            ]
          },
          "metadata": {},
          "execution_count": 4
        }
      ]
    },
    {
      "cell_type": "code",
      "source": [
        "# Select features and target\n",
        "\n",
        "X = dfMlb.drop(['Price'], axis=1)\n",
        "y = dfMlb.loc[:, 'Price']"
      ],
      "metadata": {
        "id": "bmRxKyMG0T4j"
      },
      "execution_count": 5,
      "outputs": []
    },
    {
      "cell_type": "code",
      "source": [
        "# Select only numeric\n",
        "\n",
        "cols_num = [col for col in X.columns if X[col].dtype in ['int64','float64']]\n",
        "Xnum = X[cols_num]\n",
        "Xnum.head()\n",
        "\n",
        "Xnum_train, Xnum_test, y_train, y_test = train_test_split(Xnum,y, test_size=0.2,random_state=1)"
      ],
      "metadata": {
        "id": "7_rGzlFv8Pcz"
      },
      "execution_count": 6,
      "outputs": []
    },
    {
      "cell_type": "code",
      "source": [
        "Xnum_train.isna().sum()"
      ],
      "metadata": {
        "colab": {
          "base_uri": "https://localhost:8080/"
        },
        "id": "NEJu1k8U1BbB",
        "outputId": "fd135c86-19c8-4ab6-be42-41b132a67d41"
      },
      "execution_count": 7,
      "outputs": [
        {
          "output_type": "execute_result",
          "data": {
            "text/plain": [
              "Rooms               0\n",
              "Distance            0\n",
              "Postcode            0\n",
              "Bedroom2            0\n",
              "Bathroom            0\n",
              "Car                52\n",
              "Landsize            0\n",
              "BuildingArea     5193\n",
              "YearBuilt        4312\n",
              "Lattitude           0\n",
              "Longtitude          0\n",
              "Propertycount       0\n",
              "dtype: int64"
            ]
          },
          "metadata": {},
          "execution_count": 7
        }
      ]
    },
    {
      "cell_type": "markdown",
      "source": [
        "## Build Random Forest Model"
      ],
      "metadata": {
        "id": "VLSyFWQN1tjE"
      }
    },
    {
      "cell_type": "code",
      "source": [
        "from sklearn.ensemble import RandomForestRegressor\n",
        "\n",
        "def get_random_forest_mae(X_trn,X_tst,y_trn,y_tst):\n",
        "  mdlRfsMlb = RandomForestRegressor(random_state=1)\n",
        "  mdlRfsMlb.fit(X_trn, y_trn)\n",
        "  y_tst_prd = mdlRfsMlb.predict(X_tst)\n",
        "  mae = mean_absolute_error(y_tst, y_tst_prd)\n",
        "  return(mae)"
      ],
      "metadata": {
        "id": "7bQ-3zEg1pV2"
      },
      "execution_count": 8,
      "outputs": []
    },
    {
      "cell_type": "code",
      "source": [
        "## Approach 1: Drop columns with missing values\n",
        "\n",
        "cols_num_null = [col for col in Xnum.columns if Xnum[col].isna().any()]\n",
        "Xnum_train_drpnull = Xnum_train.drop(cols_num_null, axis=1)\n",
        "Xnum_test_drpnull = Xnum_test.drop(cols_num_null, axis=1)\n",
        "\n",
        "print('MAE from Approach 1 (Drop columns with missing values):')\n",
        "print(get_random_forest_mae(Xnum_train_drpnull, Xnum_test_drpnull, y_train, y_test))"
      ],
      "metadata": {
        "colab": {
          "base_uri": "https://localhost:8080/"
        },
        "id": "FCpzTLmF18Tz",
        "outputId": "555aa459-b018-4534-b9f2-89f667997547"
      },
      "execution_count": 9,
      "outputs": [
        {
          "output_type": "stream",
          "name": "stdout",
          "text": [
            "MAE from Approach 1 (Drop columns with missing values):\n",
            "176556.1092096132\n"
          ]
        }
      ]
    },
    {
      "cell_type": "code",
      "source": [
        "## Approach 2: Fill missing values with 0\n",
        "\n",
        "Xnum_train_repnull = Xnum_train.fillna(0)\n",
        "Xnum_test_repnull = Xnum_test.fillna(0)\n",
        "\n",
        "print('MAE from Approach 2 (Fill missing values with 0):')\n",
        "print(get_random_forest_mae(Xnum_train_repnull, Xnum_test_repnull, y_train, y_test))"
      ],
      "metadata": {
        "id": "aLGnpFoTBci-",
        "colab": {
          "base_uri": "https://localhost:8080/"
        },
        "outputId": "7c216122-6854-4f88-b647-ea9fecd17d59"
      },
      "execution_count": 10,
      "outputs": [
        {
          "output_type": "stream",
          "name": "stdout",
          "text": [
            "MAE from Approach 2 (Fill missing values with 0):\n",
            "167656.98217318885\n"
          ]
        }
      ]
    },
    {
      "cell_type": "code",
      "source": [
        "## Approach 3: Fill missing values with mean value\n",
        "\n",
        "Xnum_train_repnull = Xnum_train.fillna(Xnum_train.mean())\n",
        "Xnum_test_repnull = Xnum_test.fillna(Xnum_train.mean())\n",
        "\n",
        "print('MAE from Approach 3 (Fill missing values with mean):')\n",
        "print(get_random_forest_mae(Xnum_train_repnull, Xnum_test_repnull, y_train, y_test))"
      ],
      "metadata": {
        "colab": {
          "base_uri": "https://localhost:8080/"
        },
        "id": "lu9qHItJF_LC",
        "outputId": "c1888652-c3ee-44d5-ca37-972c43a84ccf"
      },
      "execution_count": 11,
      "outputs": [
        {
          "output_type": "stream",
          "name": "stdout",
          "text": [
            "MAE from Approach 3 (Fill missing values with mean):\n",
            "166170.5766405428\n"
          ]
        }
      ]
    },
    {
      "cell_type": "code",
      "source": [
        "# Going forward, let us replace all missing numeric values with the column mean\n",
        "\n",
        "Xnum_train[cols_num] = Xnum_train_repnull[cols_num]\n",
        "Xnum_test[cols_num] = Xnum_test_repnull[cols_num]"
      ],
      "metadata": {
        "id": "kmvGddkdGAoC"
      },
      "execution_count": 13,
      "outputs": []
    }
  ]
}