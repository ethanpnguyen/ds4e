{
  "nbformat": 4,
  "nbformat_minor": 0,
  "metadata": {
    "colab": {
      "provenance": [],
      "authorship_tag": "ABX9TyN5HjYEfkaQzC8IxJUfC4n1",
      "include_colab_link": true
    },
    "kernelspec": {
      "name": "python3",
      "display_name": "Python 3"
    },
    "language_info": {
      "name": "python"
    }
  },
  "cells": [
    {
      "cell_type": "markdown",
      "metadata": {
        "id": "view-in-github",
        "colab_type": "text"
      },
      "source": [
        "<a href=\"https://colab.research.google.com/github/ethanpnguyen/ds4e/blob/main/notebooks/task3.ipynb\" target=\"_parent\"><img src=\"https://colab.research.google.com/assets/colab-badge.svg\" alt=\"Open In Colab\"/></a>"
      ]
    },
    {
      "cell_type": "markdown",
      "source": [
        "## House Prices:\n",
        "\n",
        "Can you leverage more columns in the dataset for better predictions?"
      ],
      "metadata": {
        "id": "iZqEQGhAzO_Q"
      }
    },
    {
      "cell_type": "markdown",
      "source": [
        "## Initialize"
      ],
      "metadata": {
        "id": "o9UeeZ5Hzap4"
      }
    },
    {
      "cell_type": "code",
      "execution_count": 34,
      "metadata": {
        "id": "J-o2_8omxqx5"
      },
      "outputs": [],
      "source": [
        "import pandas as pd\n",
        "import numpy as np\n",
        "import sklearn\n",
        "from sklearn.model_selection import train_test_split\n",
        "from sklearn.metrics import mean_absolute_error"
      ]
    },
    {
      "cell_type": "markdown",
      "source": [
        "## Load Data"
      ],
      "metadata": {
        "id": "jl88-xvAz00M"
      }
    },
    {
      "cell_type": "code",
      "source": [
        "dfMlb = pd.read_csv('/content/house_prices.csv')"
      ],
      "metadata": {
        "id": "ehyYAAlQzkFm"
      },
      "execution_count": 35,
      "outputs": []
    },
    {
      "cell_type": "code",
      "source": [
        "dfMlb.dtypes"
      ],
      "metadata": {
        "colab": {
          "base_uri": "https://localhost:8080/"
        },
        "id": "DtQqQI5H4S2i",
        "outputId": "b1b80142-b1f0-4cbe-c851-ffb09fa45ebd"
      },
      "execution_count": 36,
      "outputs": [
        {
          "output_type": "execute_result",
          "data": {
            "text/plain": [
              "Suburb            object\n",
              "Address           object\n",
              "Rooms              int64\n",
              "Type              object\n",
              "Price            float64\n",
              "Method            object\n",
              "SellerG           object\n",
              "Date              object\n",
              "Distance         float64\n",
              "Postcode         float64\n",
              "Bedroom2         float64\n",
              "Bathroom         float64\n",
              "Car              float64\n",
              "Landsize         float64\n",
              "BuildingArea     float64\n",
              "YearBuilt        float64\n",
              "CouncilArea       object\n",
              "Lattitude        float64\n",
              "Longtitude       float64\n",
              "Regionname        object\n",
              "Propertycount    float64\n",
              "dtype: object"
            ]
          },
          "metadata": {},
          "execution_count": 36
        }
      ]
    },
    {
      "cell_type": "code",
      "source": [
        "# Select features and target\n",
        "\n",
        "X = dfMlb.drop(['Price'], axis=1)\n",
        "y = dfMlb.loc[:, 'Price']"
      ],
      "metadata": {
        "id": "bmRxKyMG0T4j"
      },
      "execution_count": 37,
      "outputs": []
    },
    {
      "cell_type": "code",
      "source": [
        "# Split into training and test sets\n",
        "\n",
        "X_train, X_test, y_train, y_test = train_test_split(X,y,test_size=0.2,random_state=1)"
      ],
      "metadata": {
        "id": "FfNbO-OALpV2"
      },
      "execution_count": 38,
      "outputs": []
    },
    {
      "cell_type": "code",
      "source": [
        "# Select numeric features\n",
        "cols_num = [col for col in X.columns if X[col].dtype in ['int64','float64']]\n",
        "Xnum = X[cols_num]\n",
        "Xnum.head()\n",
        "\n",
        "Xnum_train, Xnum_test, y_train, y_test = train_test_split(Xnum,y, test_size=0.2,random_state=1)"
      ],
      "metadata": {
        "id": "7_rGzlFv8Pcz"
      },
      "execution_count": 39,
      "outputs": []
    },
    {
      "cell_type": "code",
      "source": [
        "Xnum_train.isna().sum()"
      ],
      "metadata": {
        "colab": {
          "base_uri": "https://localhost:8080/"
        },
        "id": "NEJu1k8U1BbB",
        "outputId": "d873bf4c-0fa8-46c1-c3dd-c62fc00d1d45"
      },
      "execution_count": 40,
      "outputs": [
        {
          "output_type": "execute_result",
          "data": {
            "text/plain": [
              "Rooms               0\n",
              "Distance            0\n",
              "Postcode            0\n",
              "Bedroom2            0\n",
              "Bathroom            0\n",
              "Car                52\n",
              "Landsize            0\n",
              "BuildingArea     5193\n",
              "YearBuilt        4312\n",
              "Lattitude           0\n",
              "Longtitude          0\n",
              "Propertycount       0\n",
              "dtype: int64"
            ]
          },
          "metadata": {},
          "execution_count": 40
        }
      ]
    },
    {
      "cell_type": "markdown",
      "source": [
        "## Build Random Forest Model"
      ],
      "metadata": {
        "id": "VLSyFWQN1tjE"
      }
    },
    {
      "cell_type": "code",
      "source": [
        "from sklearn.ensemble import RandomForestRegressor\n",
        "\n",
        "def get_random_forest_mae(X_trn,X_tst,y_trn,y_tst):\n",
        "  mdlRfsMlb = RandomForestRegressor(random_state=1)\n",
        "  mdlRfsMlb.fit(X_trn, y_trn)\n",
        "  y_tst_prd = mdlRfsMlb.predict(X_tst)\n",
        "  mae = mean_absolute_error(y_tst, y_tst_prd)\n",
        "  return(mae)"
      ],
      "metadata": {
        "id": "7bQ-3zEg1pV2"
      },
      "execution_count": 41,
      "outputs": []
    },
    {
      "cell_type": "code",
      "source": [
        "## Approach 1: Drop columns with missing values\n",
        "\n",
        "cols_num_null = [col for col in Xnum.columns if Xnum[col].isna().any()]\n",
        "Xnum_train_drpnull = Xnum_train.drop(cols_num_null, axis=1)\n",
        "Xnum_test_drpnull = Xnum_test.drop(cols_num_null, axis=1)\n",
        "\n",
        "print('MAE from Approach 1 (Drop columns with missing values):')\n",
        "print(get_random_forest_mae(Xnum_train_drpnull, Xnum_test_drpnull, y_train, y_test))"
      ],
      "metadata": {
        "colab": {
          "base_uri": "https://localhost:8080/"
        },
        "id": "FCpzTLmF18Tz",
        "outputId": "d40fb959-cf45-4d0d-f3ca-f55118c6027b"
      },
      "execution_count": 42,
      "outputs": [
        {
          "output_type": "stream",
          "name": "stdout",
          "text": [
            "MAE from Approach 1 (Drop columns with missing values):\n",
            "176556.1092096132\n"
          ]
        }
      ]
    },
    {
      "cell_type": "code",
      "source": [
        "## Approach 2: Fill missing values with 0\n",
        "\n",
        "Xnum_train_repnull = Xnum_train.fillna(0)\n",
        "Xnum_test_repnull = Xnum_test.fillna(0)\n",
        "\n",
        "print('MAE from Approach 2 (Fill missing values with 0):')\n",
        "print(get_random_forest_mae(Xnum_train_repnull, Xnum_test_repnull, y_train, y_test))"
      ],
      "metadata": {
        "id": "aLGnpFoTBci-",
        "colab": {
          "base_uri": "https://localhost:8080/"
        },
        "outputId": "82f26d50-d6f4-4632-bd18-f6466f82ef56"
      },
      "execution_count": 43,
      "outputs": [
        {
          "output_type": "stream",
          "name": "stdout",
          "text": [
            "MAE from Approach 2 (Fill missing values with 0):\n",
            "167656.98217318885\n"
          ]
        }
      ]
    },
    {
      "cell_type": "code",
      "source": [
        "## Approach 3: Fill missing values with mean value\n",
        "\n",
        "Xnum_train_repnull = Xnum_train.fillna(Xnum_train.mean())\n",
        "Xnum_test_repnull = Xnum_test.fillna(Xnum_train.mean())\n",
        "\n",
        "print('MAE from Approach 3 (Fill missing values with mean):')\n",
        "print(get_random_forest_mae(Xnum_train_repnull, Xnum_test_repnull, y_train, y_test))"
      ],
      "metadata": {
        "colab": {
          "base_uri": "https://localhost:8080/"
        },
        "id": "lu9qHItJF_LC",
        "outputId": "b955d67d-ee88-4920-c4c9-b144dcb2ed10"
      },
      "execution_count": 44,
      "outputs": [
        {
          "output_type": "stream",
          "name": "stdout",
          "text": [
            "MAE from Approach 3 (Fill missing values with mean):\n",
            "166170.5766405428\n"
          ]
        }
      ]
    },
    {
      "cell_type": "code",
      "source": [
        "# Going forward, let us replace all missing numeric values with the column mean\n",
        "\n",
        "X_train[cols_num] = Xnum_train_repnull[cols_num]\n",
        "X_test[cols_num] = Xnum_test_repnull[cols_num]"
      ],
      "metadata": {
        "id": "kmvGddkdGAoC"
      },
      "execution_count": 45,
      "outputs": []
    },
    {
      "cell_type": "markdown",
      "source": [
        "## Non-numerical Features"
      ],
      "metadata": {
        "id": "85cchP3FHGKr"
      }
    },
    {
      "cell_type": "code",
      "source": [
        "cols_cat = [col for col in X.columns if X[col].dtype in ['object'] and X[col].nunique()<10]"
      ],
      "metadata": {
        "id": "Xnz7AzuQLZ5O"
      },
      "execution_count": 49,
      "outputs": []
    },
    {
      "cell_type": "code",
      "source": [
        "from sklearn import preprocessing\n",
        "\n",
        "Xle_train = X_train.copy()\n",
        "Xle_test = X_test.copy()\n",
        "\n",
        "le = preprocessing.LabelEncoder()\n",
        "\n",
        "for col in cols_cat:\n",
        "  Xle_train[col] = le.fit_transform(Xle_train[col])\n",
        "  Xle_test[col] = le.transform(Xle_test[col])"
      ],
      "metadata": {
        "id": "pKf9AOUOHRMo"
      },
      "execution_count": 50,
      "outputs": []
    },
    {
      "cell_type": "code",
      "source": [
        "print('MAE from Label Encoding all Categorical columns:')\n",
        "print(get_random_forest_mae(Xle_train[cols_num+cols_cat],Xle_test[cols_num+cols_cat],y_train,y_test))"
      ],
      "metadata": {
        "colab": {
          "base_uri": "https://localhost:8080/"
        },
        "id": "lqccbOU7J8gi",
        "outputId": "983ab706-8067-4aa2-a151-8df86426da0c"
      },
      "execution_count": 51,
      "outputs": [
        {
          "output_type": "stream",
          "name": "stdout",
          "text": [
            "MAE from Label Encoding all Categorical columns:\n",
            "156274.91509818358\n"
          ]
        }
      ]
    },
    {
      "cell_type": "markdown",
      "source": [
        "## Build Gradient Boosting Model"
      ],
      "metadata": {
        "id": "d_Libnn8Resq"
      }
    },
    {
      "cell_type": "code",
      "source": [
        "from xgboost import XGBRegressor\n",
        "\n",
        "mdlXgbMlb = XGBRegressor()\n",
        "mdlXgbMlb.fit(Xle_train[cols_num+cols_cat],y_train)\n",
        "y_test_pred = mdlXgbMlb.predict(Xle_test[cols_num+cols_cat])\n",
        "mae = mean_absolute_error(y_test,y_test_pred)\n",
        "\n",
        "print('MAE from default XGBoost model:')\n",
        "print(mae)"
      ],
      "metadata": {
        "colab": {
          "base_uri": "https://localhost:8080/"
        },
        "id": "-R-sKzi-LOjt",
        "outputId": "f9fa7a1c-84df-4ebb-c19d-2f8a04ddfb4b"
      },
      "execution_count": 55,
      "outputs": [
        {
          "output_type": "stream",
          "name": "stdout",
          "text": [
            "[18:02:17] WARNING: /workspace/src/objective/regression_obj.cu:152: reg:linear is now deprecated in favor of reg:squarederror.\n",
            "MAE from default XGBoost model:\n",
            "183775.97442240428\n"
          ]
        }
      ]
    },
    {
      "cell_type": "code",
      "source": [
        "# Build and score a tuned Gradient Boosting Model\n",
        "\n",
        "mdlXgbMlb = XGBRegressor(n_estimators=5000,learning_rate=0.01,max_depth=5)\n",
        "mdlXgbMlb.fit(Xle_train[cols_num+cols_cat],y_train)\n",
        "y_test_pred = mdlXgbMlb.predict(Xle_test[cols_num+cols_cat])\n",
        "mae = mean_absolute_error(y_test,y_test_pred)\n",
        "\n",
        "print('MAE from default XGBoost model:')\n",
        "print(mae)"
      ],
      "metadata": {
        "colab": {
          "base_uri": "https://localhost:8080/"
        },
        "id": "WS1RTYGnRkd2",
        "outputId": "b5d1fe93-4384-485d-8a43-d7eb94f689be"
      },
      "execution_count": 57,
      "outputs": [
        {
          "output_type": "stream",
          "name": "stdout",
          "text": [
            "[18:04:15] WARNING: /workspace/src/objective/regression_obj.cu:152: reg:linear is now deprecated in favor of reg:squarederror.\n",
            "MAE from default XGBoost model:\n",
            "150992.05709223123\n"
          ]
        }
      ]
    }
  ]
}